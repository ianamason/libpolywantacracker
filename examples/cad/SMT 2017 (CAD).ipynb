{
 "cells": [
  {
   "cell_type": "code",
   "execution_count": 3,
   "metadata": {
    "collapsed": true
   },
   "outputs": [],
   "source": [
    "import polypy\n",
    "import itertools"
   ]
  },
  {
   "cell_type": "markdown",
   "metadata": {},
   "source": [
    "Get the reductums of a polynomial:\n",
    "- f is a polynomial\n",
    "- x the top variable"
   ]
  },
  {
   "cell_type": "code",
   "execution_count": 4,
   "metadata": {
    "collapsed": true
   },
   "outputs": [],
   "source": [
    "# Get all the reductums (including the polynomial itself), but not the constants\n",
    "def get_reductums(f, x):\n",
    "  R = []\n",
    "  while f.var() == x: R.append(f); f = f.reductum()\n",
    "  return R"
   ]
  },
  {
   "cell_type": "markdown",
   "metadata": {},
   "source": [
    "Add a polynomial to the projection map:\n",
    "- poly_map: map from variables to polynomials\n",
    "- f: polynomial to add\n",
    "- don't add the polynomial, add factors instead"
   ]
  },
  {
   "cell_type": "code",
   "execution_count": 5,
   "metadata": {
    "collapsed": true
   },
   "outputs": [],
   "source": [
    "# Add polynomials to projection map\n",
    "def add_polynomial(poly_map, f):\n",
    "  # Factor the polynomial\n",
    "  for (f_factor, f_factor_multiplicity) in f.factor_square_free():\n",
    "    # Add non-constant polynomials\n",
    "    if (f_factor.degree() > 0):\n",
    "      # Add to set of the top variable\n",
    "      x = f_factor.var()\n",
    "      if (x not in poly_map): poly_map[x] = set()\n",
    "      poly_map[x].add(f_factor)"
   ]
  },
  {
   "cell_type": "code",
   "execution_count": 6,
   "metadata": {
    "collapsed": true
   },
   "outputs": [],
   "source": [
    "# Add a collection of polynomials to projection map\n",
    "def add_polynomials(poly_map, polys):\n",
    "  for f in polys: add_polynomial(poly_map, f)"
   ]
  },
  {
   "cell_type": "markdown",
   "metadata": {},
   "source": [
    "Project the given polynomials:\n",
    "- poly_map: polynomials arranged by top variable\n",
    "- vars: the order of projection"
   ]
  },
  {
   "cell_type": "code",
   "execution_count": 7,
   "metadata": {
    "collapsed": true
   },
   "outputs": [],
   "source": [
    "# Project. Go down the variable stack and project:\n",
    "def project(poly_map, vars):\n",
    "  for x in reversed(vars):\n",
    "    # Project variable x\n",
    "    x_polys = poly_map[x]\n",
    "    # [1] coeff(f) for f in poly[x]\n",
    "    for f in x_polys:\n",
    "      add_polynomials(poly_map, f.coefficients())\n",
    "    # [2] psc(g, g') for f in poly[x], g in R(f, x)\n",
    "    for f in x_polys:\n",
    "      for g in get_reductums(f, x):\n",
    "        g_d = f.derivative()\n",
    "        if (g_d.var() == x):\n",
    "          add_polynomials(poly_map, g.psc(g_d))\n",
    "    # [3] psc(g1, g2) for f1, f2 in poly[x], g1 in R(f1, x), g2 in R(f2, x)\n",
    "    for (f1, f2) in itertools.combinations(x_polys, 2):\n",
    "      f1_R = get_reductums(f1, x)\n",
    "      f2_R = get_reductums(f2, x)\n",
    "      for (g1, g2) in itertools.product(f1_R, f2_R):\n",
    "        add_polynomial(poly_map, g1.psc(g2))"
   ]
  },
  {
   "cell_type": "markdown",
   "metadata": {},
   "source": [
    "Lifting (recursive sign-tabling):\n",
    "- poly_map: projected polynomials\n",
    "- vars: the order of projection\n",
    "- m: the assignment we update"
   ]
  },
  {
   "cell_type": "code",
   "execution_count": 8,
   "metadata": {
    "collapsed": true
   },
   "outputs": [],
   "source": [
    "# Lift the first variable, update the assignment and lift recursively\n",
    "def lift_first_var(poly_map, vars, m):\n",
    "  # We've tried all vars, print the asignment\n",
    "  if len(vars) == 0:\n",
    "    print(m) # Evaluation point\n",
    "    return        \n",
    "  # The variable we're assigning\n",
    "  x = vars[0] \n",
    "  # Get the roots\n",
    "  roots = set()  # Set of root values\n",
    "  for f in poly_map[x]:\n",
    "    f_roots = f.roots_isolate(m)\n",
    "    roots.update(f_roots)\n",
    "  # Sort the roots and add infinities\n",
    "  roots = [polypy.INFINITY_NEG] + sorted(roots) + [polypy.INFINITY_POS]\n",
    "  # Select values in the regions, and go recursive\n",
    "  r_i, r_j = itertools.tee(roots)\n",
    "  next(r_j)\n",
    "  for r1, r2 in itertools.izip(r_i, r_j):\n",
    "    # Get the sector (r1, r2)          \n",
    "    v = r1.get_value_between(r2);\n",
    "    m.set_value(x, v)\n",
    "    # Go recursive \n",
    "    lift_first_var(poly_map, vars[1:], m)            \n",
    "    # Get the section [r2]\n",
    "    if r2 != polypy.INFINITY_POS:\n",
    "      m.set_value(x, r2)\n",
    "      # Go recursive\n",
    "      lift_first_var(poly_map, vars[1:], m)                        \n",
    "    m.unset_value(x)"
   ]
  },
  {
   "cell_type": "code",
   "execution_count": 9,
   "metadata": {
    "collapsed": true
   },
   "outputs": [],
   "source": [
    "# Do the lifting\n",
    "def lift(poly_map, vars):  \n",
    "  m = polypy.Assignment()\n",
    "  lift_first_var(poly_map, vars, m)"
   ]
  },
  {
   "cell_type": "markdown",
   "metadata": {},
   "source": [
    "Full cad construction:\n",
    "- add all polynomials\n",
    "- project\n",
    "- lift"
   ]
  },
  {
   "cell_type": "code",
   "execution_count": 10,
   "metadata": {
    "collapsed": true
   },
   "outputs": [],
   "source": [
    "# Run the CAD construction\n",
    "def cad(polys, vars):\n",
    "  polypy.variable_order.set(vars)\n",
    "  poly_map = {}\n",
    "  add_polynomials(poly_map, polys)\n",
    "  project(poly_map, vars)\n",
    "  lift(poly_map, vars)"
   ]
  },
  {
   "cell_type": "markdown",
   "metadata": {},
   "source": [
    "Example"
   ]
  },
  {
   "cell_type": "code",
   "execution_count": 11,
   "metadata": {
    "collapsed": true
   },
   "outputs": [],
   "source": [
    "x = polypy.Variable(\"x\");"
   ]
  },
  {
   "cell_type": "code",
   "execution_count": 12,
   "metadata": {
    "collapsed": true
   },
   "outputs": [],
   "source": [
    "y = polypy.Variable(\"y\");"
   ]
  },
  {
   "cell_type": "code",
   "execution_count": 13,
   "metadata": {
    "collapsed": true
   },
   "outputs": [],
   "source": [
    "vars = [x, y]"
   ]
  },
  {
   "cell_type": "code",
   "execution_count": 14,
   "metadata": {
    "collapsed": true
   },
   "outputs": [],
   "source": [
    "polys = [x**2 + y**2 - 1]"
   ]
  },
  {
   "cell_type": "code",
   "execution_count": 15,
   "metadata": {},
   "outputs": [
    {
     "name": "stdout",
     "output_type": "stream",
     "text": [
      "[x -> -2, y -> 0]\n",
      "[x -> -1, y -> -1]\n",
      "[x -> -1, y -> 0]\n",
      "[x -> -1, y -> 1]\n",
      "[x -> 0, y -> -2]\n",
      "[x -> 0, y -> -1]\n",
      "[x -> 0, y -> 0]\n",
      "[x -> 0, y -> 1]\n",
      "[x -> 0, y -> 2]\n",
      "[x -> 1, y -> -1]\n",
      "[x -> 1, y -> 0]\n",
      "[x -> 1, y -> 1]\n",
      "[x -> 2, y -> 0]\n"
     ]
    }
   ],
   "source": [
    "cad(polys, vars)"
   ]
  },
  {
   "cell_type": "code",
   "execution_count": null,
   "metadata": {
    "collapsed": true
   },
   "outputs": [],
   "source": []
  }
 ],
 "metadata": {
  "kernelspec": {
   "display_name": "Python 2",
   "language": "python",
   "name": "python2"
  },
  "language_info": {
   "codemirror_mode": {
    "name": "ipython",
    "version": 2
   },
   "file_extension": ".py",
   "mimetype": "text/x-python",
   "name": "python",
   "nbconvert_exporter": "python",
   "pygments_lexer": "ipython2",
   "version": "2.7.12"
  }
 },
 "nbformat": 4,
 "nbformat_minor": 2
}

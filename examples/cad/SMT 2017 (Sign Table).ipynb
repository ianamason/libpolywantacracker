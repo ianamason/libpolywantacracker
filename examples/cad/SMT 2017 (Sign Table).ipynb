{
 "cells": [
  {
   "cell_type": "markdown",
   "metadata": {},
   "source": [
    "Import LibPoly and utitlities"
   ]
  },
  {
   "cell_type": "code",
   "execution_count": 1,
   "metadata": {
    "collapsed": true
   },
   "outputs": [],
   "source": [
    "from sys import stdout\n",
    "import polypy\n",
    "import itertools"
   ]
  },
  {
   "cell_type": "markdown",
   "metadata": {},
   "source": [
    "Table printout utilities"
   ]
  },
  {
   "cell_type": "code",
   "execution_count": 2,
   "metadata": {
    "collapsed": true
   },
   "outputs": [],
   "source": [
    "def output(item, width = 15):\n",
    "  if (isinstance(item, tuple)):\n",
    "    stdout.write(\"({:.2f} {:.2f})\".format(item[0], item[1]).center(width))\n",
    "  elif (isinstance(item, float)):\n",
    "    stdout.write(\"{:.2f}\".format(item).center(width))\n",
    "  else: \n",
    "    stdout.write(\"{}\".format(item).center(width))"
   ]
  },
  {
   "cell_type": "markdown",
   "metadata": {},
   "source": [
    "Compute and print the sign table\n",
    "- x: the main variable\n",
    "- polys: the polynomials to sign table\n",
    "- m: the model for other variables"
   ]
  },
  {
   "cell_type": "code",
   "execution_count": 3,
   "metadata": {
    "collapsed": true
   },
   "outputs": [],
   "source": [
    "def sign_table(x, polys, m):\n",
    "  # Get the roots and print the header\n",
    "  roots = set()  # Set of roots\n",
    "  output(\"poly/int\")\n",
    "  for f in polys:\n",
    "    output(f)\n",
    "    f_roots = f.roots_isolate(m)\n",
    "    roots.update(f_roots)\n",
    "  stdout.write(\"\\n\")\n",
    "  # Sort the roots and add infinities\n",
    "  roots = [polypy.INFINITY_NEG] + sorted(roots) + [polypy.INFINITY_POS]\n",
    "  # Print intervals and signs in the intervals\n",
    "  root_i, root_j = itertools.tee(roots)\n",
    "  next(root_j)\n",
    "  for r1, r2 in itertools.izip(root_i, root_j):\n",
    "    output((r1.to_double(), r2.to_double()))\n",
    "    # The interval (r1, r2)\n",
    "    v = r1.get_value_between(r2);\n",
    "    m.set_value(x, v)\n",
    "    for f in polys: output(f.sgn(m))\n",
    "    stdout.write(\"\\n\")\n",
    "    # The interval [r2]\n",
    "    if r2 != polypy.INFINITY_POS:\n",
    "      output(r2.to_double())\n",
    "      m.set_value(x, r2)\n",
    "      for f in polys: output(f.sgn(m))\n",
    "      stdout.write(\"\\n\")\n",
    "  m.unset_value(x)"
   ]
  },
  {
   "cell_type": "markdown",
   "metadata": {},
   "source": [
    "Test the sign table on $(x^2 - 2)$ and $(x^2 - 3)$."
   ]
  },
  {
   "cell_type": "code",
   "execution_count": 4,
   "metadata": {
    "collapsed": true
   },
   "outputs": [],
   "source": [
    "x = polypy.Variable('x')"
   ]
  },
  {
   "cell_type": "code",
   "execution_count": 5,
   "metadata": {
    "collapsed": true
   },
   "outputs": [],
   "source": [
    "m = polypy.Assignment()"
   ]
  },
  {
   "cell_type": "code",
   "execution_count": 6,
   "metadata": {
    "collapsed": true
   },
   "outputs": [],
   "source": [
    "polys = [x**2 - 2, x**2 - 3]"
   ]
  },
  {
   "cell_type": "code",
   "execution_count": 7,
   "metadata": {},
   "outputs": [
    {
     "name": "stdout",
     "output_type": "stream",
     "text": [
      "    poly/int      1*x**2 - 2     1*x**2 - 3  \n",
      "  (-inf -1.73)        1              1       \n",
      "     -1.73            1              0       \n",
      " (-1.73 -1.41)        1              -1      \n",
      "     -1.41            0              -1      \n",
      "  (-1.41 1.41)        -1             -1      \n",
      "      1.41            0              -1      \n",
      "  (1.41 1.73)         1              -1      \n",
      "      1.73            1              0       \n",
      "   (1.73 inf)         1              1       \n"
     ]
    }
   ],
   "source": [
    "sign_table(x, polys, m)"
   ]
  },
  {
   "cell_type": "code",
   "execution_count": 8,
   "metadata": {
    "collapsed": true
   },
   "outputs": [],
   "source": [
    "y = polypy.Variable('y')\n",
    "polys_y = [x**2 + y**2 - 1, (x - 1)**2 + y**2 - 1]"
   ]
  },
  {
   "cell_type": "code",
   "execution_count": 13,
   "metadata": {},
   "outputs": [],
   "source": [
    "polys_x = [x + 1, x + 0, 2*x - 1, x - 1, x - 2]"
   ]
  },
  {
   "cell_type": "code",
   "execution_count": 14,
   "metadata": {
    "collapsed": true
   },
   "outputs": [],
   "source": [
    "m = polypy.Assignment()"
   ]
  },
  {
   "cell_type": "code",
   "execution_count": 15,
   "metadata": {},
   "outputs": [
    {
     "name": "stdout",
     "output_type": "stream",
     "text": [
      "    poly/int       1*x + 1          1*x          2*x - 1        1*x - 1        1*x - 2    \n",
      "  (-inf -1.00)        -1             -1             -1             -1             -1      \n",
      "     -1.00            0              -1             -1             -1             -1      \n",
      "  (-1.00 0.00)        1              -1             -1             -1             -1      \n",
      "      0.00            1              0              -1             -1             -1      \n",
      "  (0.00 0.50)         1              1              -1             -1             -1      \n",
      "      0.50            1              1              0              -1             -1      \n",
      "  (0.50 1.00)         1              1              1              -1             -1      \n",
      "      1.00            1              1              1              0              -1      \n",
      "  (1.00 2.00)         1              1              1              1              -1      \n",
      "      2.00            1              1              1              1              0       \n",
      "   (2.00 inf)         1              1              1              1              1       \n"
     ]
    }
   ],
   "source": [
    "sign_table(x, polys_x, m)"
   ]
  },
  {
   "cell_type": "code",
   "execution_count": 12,
   "metadata": {
    "collapsed": true
   },
   "outputs": [],
   "source": [
    "m.set_value(x, -1)"
   ]
  },
  {
   "cell_type": "code",
   "execution_count": 13,
   "metadata": {},
   "outputs": [
    {
     "name": "stdout",
     "output_type": "stream",
     "text": [
      "    poly/int   1*y**2 + (1*x**2 - 1)1*y**2 + (1*x**2 - 2*x)\n",
      "  (-inf 0.00)         1              1       \n",
      "      0.00            0              1       \n",
      "   (0.00 inf)         1              1       \n"
     ]
    }
   ],
   "source": [
    "sign_table(y, polys_y, m)"
   ]
  },
  {
   "cell_type": "code",
   "execution_count": null,
   "metadata": {
    "collapsed": true
   },
   "outputs": [],
   "source": []
  }
 ],
 "metadata": {
  "kernelspec": {
   "display_name": "Python 2",
   "language": "python",
   "name": "python2"
  },
  "language_info": {
   "codemirror_mode": {
    "name": "ipython",
    "version": 2
   },
   "file_extension": ".py",
   "mimetype": "text/x-python",
   "name": "python",
   "nbconvert_exporter": "python",
   "pygments_lexer": "ipython2",
   "version": "2.7.12"
  }
 },
 "nbformat": 4,
 "nbformat_minor": 2
}
